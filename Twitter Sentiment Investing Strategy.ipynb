{
 "cells": [
  {
   "cell_type": "code",
   "execution_count": 1,
   "id": "9357bfa3",
   "metadata": {},
   "outputs": [
    {
     "data": {
      "text/html": [
       "<div>\n",
       "<style scoped>\n",
       "    .dataframe tbody tr th:only-of-type {\n",
       "        vertical-align: middle;\n",
       "    }\n",
       "\n",
       "    .dataframe tbody tr th {\n",
       "        vertical-align: top;\n",
       "    }\n",
       "\n",
       "    .dataframe thead th {\n",
       "        text-align: right;\n",
       "    }\n",
       "</style>\n",
       "<table border=\"1\" class=\"dataframe\">\n",
       "  <thead>\n",
       "    <tr style=\"text-align: right;\">\n",
       "      <th></th>\n",
       "      <th></th>\n",
       "      <th>twitterPosts</th>\n",
       "      <th>twitterComments</th>\n",
       "      <th>twitterLikes</th>\n",
       "      <th>twitterImpressions</th>\n",
       "      <th>twitterSentiment</th>\n",
       "      <th>engagement_ratio</th>\n",
       "    </tr>\n",
       "    <tr>\n",
       "      <th>date</th>\n",
       "      <th>symbol</th>\n",
       "      <th></th>\n",
       "      <th></th>\n",
       "      <th></th>\n",
       "      <th></th>\n",
       "      <th></th>\n",
       "      <th></th>\n",
       "    </tr>\n",
       "  </thead>\n",
       "  <tbody>\n",
       "    <tr>\n",
       "      <th rowspan=\"5\" valign=\"top\">2021-11-18</th>\n",
       "      <th>AAPL</th>\n",
       "      <td>811.0</td>\n",
       "      <td>2592.0</td>\n",
       "      <td>21674.0</td>\n",
       "      <td>7981808.0</td>\n",
       "      <td>NaN</td>\n",
       "      <td>0.119590</td>\n",
       "    </tr>\n",
       "    <tr>\n",
       "      <th>AMD</th>\n",
       "      <td>150.0</td>\n",
       "      <td>675.0</td>\n",
       "      <td>2949.0</td>\n",
       "      <td>1645270.0</td>\n",
       "      <td>NaN</td>\n",
       "      <td>0.228891</td>\n",
       "    </tr>\n",
       "    <tr>\n",
       "      <th>AMZN</th>\n",
       "      <td>557.0</td>\n",
       "      <td>1315.0</td>\n",
       "      <td>12969.0</td>\n",
       "      <td>5590695.0</td>\n",
       "      <td>NaN</td>\n",
       "      <td>0.101396</td>\n",
       "    </tr>\n",
       "    <tr>\n",
       "      <th>ATVI</th>\n",
       "      <td>82.0</td>\n",
       "      <td>36.0</td>\n",
       "      <td>131.0</td>\n",
       "      <td>1310715.0</td>\n",
       "      <td>NaN</td>\n",
       "      <td>0.274809</td>\n",
       "    </tr>\n",
       "    <tr>\n",
       "      <th>BA</th>\n",
       "      <td>61.0</td>\n",
       "      <td>55.0</td>\n",
       "      <td>342.0</td>\n",
       "      <td>425847.0</td>\n",
       "      <td>NaN</td>\n",
       "      <td>0.160819</td>\n",
       "    </tr>\n",
       "    <tr>\n",
       "      <th>...</th>\n",
       "      <th>...</th>\n",
       "      <td>...</td>\n",
       "      <td>...</td>\n",
       "      <td>...</td>\n",
       "      <td>...</td>\n",
       "      <td>...</td>\n",
       "      <td>...</td>\n",
       "    </tr>\n",
       "    <tr>\n",
       "      <th rowspan=\"5\" valign=\"top\">2023-01-04</th>\n",
       "      <th>T</th>\n",
       "      <td>184.0</td>\n",
       "      <td>3409.0</td>\n",
       "      <td>14271.0</td>\n",
       "      <td>884935.0</td>\n",
       "      <td>0.590457</td>\n",
       "      <td>0.238876</td>\n",
       "    </tr>\n",
       "    <tr>\n",
       "      <th>TSLA</th>\n",
       "      <td>6767.0</td>\n",
       "      <td>540711.0</td>\n",
       "      <td>3810688.0</td>\n",
       "      <td>55464921.0</td>\n",
       "      <td>0.543057</td>\n",
       "      <td>0.141893</td>\n",
       "    </tr>\n",
       "    <tr>\n",
       "      <th>TSN</th>\n",
       "      <td>35.0</td>\n",
       "      <td>168.0</td>\n",
       "      <td>460.0</td>\n",
       "      <td>57207.0</td>\n",
       "      <td>0.561900</td>\n",
       "      <td>0.365217</td>\n",
       "    </tr>\n",
       "    <tr>\n",
       "      <th>V</th>\n",
       "      <td>132.0</td>\n",
       "      <td>1008.0</td>\n",
       "      <td>5943.0</td>\n",
       "      <td>139835.0</td>\n",
       "      <td>0.567286</td>\n",
       "      <td>0.169611</td>\n",
       "    </tr>\n",
       "    <tr>\n",
       "      <th>XOM</th>\n",
       "      <td>212.0</td>\n",
       "      <td>374.0</td>\n",
       "      <td>2071.0</td>\n",
       "      <td>483389.0</td>\n",
       "      <td>0.588914</td>\n",
       "      <td>0.180589</td>\n",
       "    </tr>\n",
       "  </tbody>\n",
       "</table>\n",
       "<p>25375 rows × 6 columns</p>\n",
       "</div>"
      ],
      "text/plain": [
       "                   twitterPosts  twitterComments  twitterLikes  \\\n",
       "date       symbol                                                \n",
       "2021-11-18 AAPL           811.0           2592.0       21674.0   \n",
       "           AMD            150.0            675.0        2949.0   \n",
       "           AMZN           557.0           1315.0       12969.0   \n",
       "           ATVI            82.0             36.0         131.0   \n",
       "           BA              61.0             55.0         342.0   \n",
       "...                         ...              ...           ...   \n",
       "2023-01-04 T              184.0           3409.0       14271.0   \n",
       "           TSLA          6767.0         540711.0     3810688.0   \n",
       "           TSN             35.0            168.0         460.0   \n",
       "           V              132.0           1008.0        5943.0   \n",
       "           XOM            212.0            374.0        2071.0   \n",
       "\n",
       "                   twitterImpressions  twitterSentiment  engagement_ratio  \n",
       "date       symbol                                                          \n",
       "2021-11-18 AAPL             7981808.0               NaN          0.119590  \n",
       "           AMD              1645270.0               NaN          0.228891  \n",
       "           AMZN             5590695.0               NaN          0.101396  \n",
       "           ATVI             1310715.0               NaN          0.274809  \n",
       "           BA                425847.0               NaN          0.160819  \n",
       "...                               ...               ...               ...  \n",
       "2023-01-04 T                 884935.0          0.590457          0.238876  \n",
       "           TSLA            55464921.0          0.543057          0.141893  \n",
       "           TSN                57207.0          0.561900          0.365217  \n",
       "           V                 139835.0          0.567286          0.169611  \n",
       "           XOM               483389.0          0.588914          0.180589  \n",
       "\n",
       "[25375 rows x 6 columns]"
      ]
     },
     "execution_count": 1,
     "metadata": {},
     "output_type": "execute_result"
    }
   ],
   "source": [
    "import pandas as pd\n",
    "import numpy as np\n",
    "import matplotlib.pyplot as plt\n",
    "import datetime as dt\n",
    "import yfinance as yf\n",
    "import os\n",
    "plt.style.use('ggplot')\n",
    "\n",
    "data_folder = 'C:/Users/lgspa/Downloads'\n",
    "\n",
    "sentiment_df = pd.read_csv(os.path.join(data_folder, 'sentiment_data.csv'))\n",
    "\n",
    "sentiment_df['date'] = pd.to_datetime(sentiment_df['date'])\n",
    "\n",
    "sentiment_df = sentiment_df.set_index(['date', 'symbol'])\n",
    "\n",
    "sentiment_df['engagement_ratio'] = sentiment_df['twitterComments']/sentiment_df['twitterLikes']\n",
    "\n",
    "sentiment_df = sentiment_df[(sentiment_df['twitterLikes']>20)&(sentiment_df['twitterComments']>10)]\n",
    "\n",
    "sentiment_df"
   ]
  },
  {
   "cell_type": "code",
   "execution_count": 2,
   "id": "d95543b0",
   "metadata": {},
   "outputs": [
    {
     "data": {
      "text/html": [
       "<div>\n",
       "<style scoped>\n",
       "    .dataframe tbody tr th:only-of-type {\n",
       "        vertical-align: middle;\n",
       "    }\n",
       "\n",
       "    .dataframe tbody tr th {\n",
       "        vertical-align: top;\n",
       "    }\n",
       "\n",
       "    .dataframe thead th {\n",
       "        text-align: right;\n",
       "    }\n",
       "</style>\n",
       "<table border=\"1\" class=\"dataframe\">\n",
       "  <thead>\n",
       "    <tr style=\"text-align: right;\">\n",
       "      <th></th>\n",
       "      <th></th>\n",
       "      <th>engagement_ratio</th>\n",
       "      <th>rank</th>\n",
       "    </tr>\n",
       "    <tr>\n",
       "      <th>date</th>\n",
       "      <th>symbol</th>\n",
       "      <th></th>\n",
       "      <th></th>\n",
       "    </tr>\n",
       "  </thead>\n",
       "  <tbody>\n",
       "    <tr>\n",
       "      <th rowspan=\"5\" valign=\"top\">2021-11-30</th>\n",
       "      <th>AAL</th>\n",
       "      <td>0.203835</td>\n",
       "      <td>37.0</td>\n",
       "    </tr>\n",
       "    <tr>\n",
       "      <th>AAPL</th>\n",
       "      <td>0.256318</td>\n",
       "      <td>23.0</td>\n",
       "    </tr>\n",
       "    <tr>\n",
       "      <th>ABBV</th>\n",
       "      <td>0.244677</td>\n",
       "      <td>26.0</td>\n",
       "    </tr>\n",
       "    <tr>\n",
       "      <th>ABT</th>\n",
       "      <td>0.313368</td>\n",
       "      <td>14.0</td>\n",
       "    </tr>\n",
       "    <tr>\n",
       "      <th>AES</th>\n",
       "      <td>0.864613</td>\n",
       "      <td>2.0</td>\n",
       "    </tr>\n",
       "    <tr>\n",
       "      <th>...</th>\n",
       "      <th>...</th>\n",
       "      <td>...</td>\n",
       "      <td>...</td>\n",
       "    </tr>\n",
       "    <tr>\n",
       "      <th rowspan=\"5\" valign=\"top\">2023-01-31</th>\n",
       "      <th>TMO</th>\n",
       "      <td>0.333313</td>\n",
       "      <td>19.0</td>\n",
       "    </tr>\n",
       "    <tr>\n",
       "      <th>TSLA</th>\n",
       "      <td>0.151992</td>\n",
       "      <td>72.0</td>\n",
       "    </tr>\n",
       "    <tr>\n",
       "      <th>TSN</th>\n",
       "      <td>0.280553</td>\n",
       "      <td>30.0</td>\n",
       "    </tr>\n",
       "    <tr>\n",
       "      <th>V</th>\n",
       "      <td>0.194045</td>\n",
       "      <td>60.0</td>\n",
       "    </tr>\n",
       "    <tr>\n",
       "      <th>XOM</th>\n",
       "      <td>0.217904</td>\n",
       "      <td>53.0</td>\n",
       "    </tr>\n",
       "  </tbody>\n",
       "</table>\n",
       "<p>1109 rows × 2 columns</p>\n",
       "</div>"
      ],
      "text/plain": [
       "                   engagement_ratio  rank\n",
       "date       symbol                        \n",
       "2021-11-30 AAL             0.203835  37.0\n",
       "           AAPL            0.256318  23.0\n",
       "           ABBV            0.244677  26.0\n",
       "           ABT             0.313368  14.0\n",
       "           AES             0.864613   2.0\n",
       "...                             ...   ...\n",
       "2023-01-31 TMO             0.333313  19.0\n",
       "           TSLA            0.151992  72.0\n",
       "           TSN             0.280553  30.0\n",
       "           V               0.194045  60.0\n",
       "           XOM             0.217904  53.0\n",
       "\n",
       "[1109 rows x 2 columns]"
      ]
     },
     "execution_count": 2,
     "metadata": {},
     "output_type": "execute_result"
    }
   ],
   "source": [
    "aggragated_df = (sentiment_df.reset_index('symbol').groupby([pd.Grouper(freq='M'), 'symbol'])\n",
    "                    [['engagement_ratio']].mean())\n",
    "\n",
    "aggragated_df['rank'] = (aggragated_df.groupby(level=0)['engagement_ratio']\n",
    "                         .transform(lambda x: x.rank(ascending=False)))\n",
    "\n",
    "aggragated_df"
   ]
  },
  {
   "cell_type": "code",
   "execution_count": 3,
   "id": "5243997a",
   "metadata": {},
   "outputs": [
    {
     "data": {
      "text/html": [
       "<div>\n",
       "<style scoped>\n",
       "    .dataframe tbody tr th:only-of-type {\n",
       "        vertical-align: middle;\n",
       "    }\n",
       "\n",
       "    .dataframe tbody tr th {\n",
       "        vertical-align: top;\n",
       "    }\n",
       "\n",
       "    .dataframe thead th {\n",
       "        text-align: right;\n",
       "    }\n",
       "</style>\n",
       "<table border=\"1\" class=\"dataframe\">\n",
       "  <thead>\n",
       "    <tr style=\"text-align: right;\">\n",
       "      <th></th>\n",
       "      <th></th>\n",
       "      <th>engagement_ratio</th>\n",
       "      <th>rank</th>\n",
       "    </tr>\n",
       "    <tr>\n",
       "      <th>date</th>\n",
       "      <th>symbol</th>\n",
       "      <th></th>\n",
       "      <th></th>\n",
       "    </tr>\n",
       "  </thead>\n",
       "  <tbody>\n",
       "    <tr>\n",
       "      <th rowspan=\"5\" valign=\"top\">2021-12-01</th>\n",
       "      <th>AES</th>\n",
       "      <td>0.864613</td>\n",
       "      <td>2.0</td>\n",
       "    </tr>\n",
       "    <tr>\n",
       "      <th>FCX</th>\n",
       "      <td>0.626323</td>\n",
       "      <td>5.0</td>\n",
       "    </tr>\n",
       "    <tr>\n",
       "      <th>MNST</th>\n",
       "      <td>0.699721</td>\n",
       "      <td>3.0</td>\n",
       "    </tr>\n",
       "    <tr>\n",
       "      <th>OXY</th>\n",
       "      <td>2.147741</td>\n",
       "      <td>1.0</td>\n",
       "    </tr>\n",
       "    <tr>\n",
       "      <th>SLB</th>\n",
       "      <td>0.647374</td>\n",
       "      <td>4.0</td>\n",
       "    </tr>\n",
       "    <tr>\n",
       "      <th rowspan=\"5\" valign=\"top\">2022-01-01</th>\n",
       "      <th>D</th>\n",
       "      <td>0.801994</td>\n",
       "      <td>5.0</td>\n",
       "    </tr>\n",
       "    <tr>\n",
       "      <th>FCX</th>\n",
       "      <td>0.841220</td>\n",
       "      <td>4.0</td>\n",
       "    </tr>\n",
       "    <tr>\n",
       "      <th>L</th>\n",
       "      <td>6.507246</td>\n",
       "      <td>1.0</td>\n",
       "    </tr>\n",
       "    <tr>\n",
       "      <th>LUV</th>\n",
       "      <td>1.303215</td>\n",
       "      <td>2.0</td>\n",
       "    </tr>\n",
       "    <tr>\n",
       "      <th>MA</th>\n",
       "      <td>0.883401</td>\n",
       "      <td>3.0</td>\n",
       "    </tr>\n",
       "    <tr>\n",
       "      <th rowspan=\"5\" valign=\"top\">2022-02-01</th>\n",
       "      <th>AMD</th>\n",
       "      <td>0.715556</td>\n",
       "      <td>4.0</td>\n",
       "    </tr>\n",
       "    <tr>\n",
       "      <th>D</th>\n",
       "      <td>1.136678</td>\n",
       "      <td>1.0</td>\n",
       "    </tr>\n",
       "    <tr>\n",
       "      <th>FCX</th>\n",
       "      <td>0.655237</td>\n",
       "      <td>5.0</td>\n",
       "    </tr>\n",
       "    <tr>\n",
       "      <th>LUV</th>\n",
       "      <td>1.035258</td>\n",
       "      <td>2.0</td>\n",
       "    </tr>\n",
       "    <tr>\n",
       "      <th>MA</th>\n",
       "      <td>0.729063</td>\n",
       "      <td>3.0</td>\n",
       "    </tr>\n",
       "    <tr>\n",
       "      <th rowspan=\"5\" valign=\"top\">2022-03-01</th>\n",
       "      <th>FCX</th>\n",
       "      <td>1.138332</td>\n",
       "      <td>2.0</td>\n",
       "    </tr>\n",
       "    <tr>\n",
       "      <th>GILD</th>\n",
       "      <td>0.530886</td>\n",
       "      <td>5.0</td>\n",
       "    </tr>\n",
       "    <tr>\n",
       "      <th>LUV</th>\n",
       "      <td>1.574377</td>\n",
       "      <td>1.0</td>\n",
       "    </tr>\n",
       "    <tr>\n",
       "      <th>MRO</th>\n",
       "      <td>0.581748</td>\n",
       "      <td>4.0</td>\n",
       "    </tr>\n",
       "    <tr>\n",
       "      <th>OXY</th>\n",
       "      <td>1.025579</td>\n",
       "      <td>3.0</td>\n",
       "    </tr>\n",
       "  </tbody>\n",
       "</table>\n",
       "</div>"
      ],
      "text/plain": [
       "                   engagement_ratio  rank\n",
       "date       symbol                        \n",
       "2021-12-01 AES             0.864613   2.0\n",
       "           FCX             0.626323   5.0\n",
       "           MNST            0.699721   3.0\n",
       "           OXY             2.147741   1.0\n",
       "           SLB             0.647374   4.0\n",
       "2022-01-01 D               0.801994   5.0\n",
       "           FCX             0.841220   4.0\n",
       "           L               6.507246   1.0\n",
       "           LUV             1.303215   2.0\n",
       "           MA              0.883401   3.0\n",
       "2022-02-01 AMD             0.715556   4.0\n",
       "           D               1.136678   1.0\n",
       "           FCX             0.655237   5.0\n",
       "           LUV             1.035258   2.0\n",
       "           MA              0.729063   3.0\n",
       "2022-03-01 FCX             1.138332   2.0\n",
       "           GILD            0.530886   5.0\n",
       "           LUV             1.574377   1.0\n",
       "           MRO             0.581748   4.0\n",
       "           OXY             1.025579   3.0"
      ]
     },
     "execution_count": 3,
     "metadata": {},
     "output_type": "execute_result"
    }
   ],
   "source": [
    "filtered_df = aggragated_df[aggragated_df['rank']<6].copy()\n",
    "\n",
    "filtered_df = filtered_df.reset_index(level=1)\n",
    "\n",
    "filtered_df.index = filtered_df.index+pd.DateOffset(1)\n",
    "\n",
    "filtered_df = filtered_df.reset_index().set_index(['date', 'symbol'])\n",
    "\n",
    "filtered_df.head(20)"
   ]
  },
  {
   "cell_type": "code",
   "execution_count": 4,
   "id": "73d82cb6",
   "metadata": {},
   "outputs": [
    {
     "data": {
      "text/plain": [
       "{'2021-12-01': ['AES', 'FCX', 'MNST', 'OXY', 'SLB'],\n",
       " '2022-01-01': ['D', 'FCX', 'L', 'LUV', 'MA'],\n",
       " '2022-02-01': ['AMD', 'D', 'FCX', 'LUV', 'MA'],\n",
       " '2022-03-01': ['FCX', 'GILD', 'LUV', 'MRO', 'OXY'],\n",
       " '2022-04-01': ['A', 'CRM', 'PFE', 'PM', 'STZ'],\n",
       " '2022-05-01': ['AMD', 'CRM', 'CVX', 'J', 'KEY'],\n",
       " '2022-06-01': ['AMD', 'DD', 'FCX', 'KEY', 'LMT'],\n",
       " '2022-07-01': ['CB', 'CRM', 'DD', 'FCX', 'STZ'],\n",
       " '2022-08-01': ['A', 'DD', 'JPM', 'REGN', 'STZ'],\n",
       " '2022-09-01': ['ABT', 'DIS', 'L', 'META', 'MRNA'],\n",
       " '2022-10-01': ['J', 'KEY', 'L', 'META', 'MU'],\n",
       " '2022-11-01': ['A', 'DD', 'FCX', 'J', 'META'],\n",
       " '2022-12-01': ['AEP', 'AES', 'DD', 'J', 'STZ'],\n",
       " '2023-01-01': ['A', 'AES', 'DAL', 'J', 'KEY'],\n",
       " '2023-02-01': ['A', 'AES', 'BIIB', 'FCX', 'MDT']}"
      ]
     },
     "execution_count": 4,
     "metadata": {},
     "output_type": "execute_result"
    }
   ],
   "source": [
    "dates = filtered_df.index.get_level_values('date').unique().tolist()\n",
    "\n",
    "fixed_dates = {}\n",
    "\n",
    "for d in dates:\n",
    "    \n",
    "    fixed_dates[d.strftime('%Y-%m-%d')] = filtered_df.xs(d, level=0).index.tolist()\n",
    "    \n",
    "fixed_dates"
   ]
  },
  {
   "cell_type": "code",
   "execution_count": 5,
   "id": "847b6f57",
   "metadata": {},
   "outputs": [
    {
     "name": "stdout",
     "output_type": "stream",
     "text": [
      "'ATVI' symbol excluded from further processing.\n"
     ]
    },
    {
     "name": "stderr",
     "output_type": "stream",
     "text": [
      "[*********************100%%**********************]  1 of 1 completed\n",
      "[*********************100%%**********************]  1 of 1 completed\n",
      "[*********************100%%**********************]  1 of 1 completed"
     ]
    },
    {
     "name": "stdout",
     "output_type": "stream",
     "text": [
      "Data for 'AAPL' downloaded successfully.\n",
      "Data for 'AMD' downloaded successfully.\n"
     ]
    },
    {
     "name": "stderr",
     "output_type": "stream",
     "text": [
      "\n",
      "[*********************100%%**********************]  1 of 1 completed\n"
     ]
    },
    {
     "name": "stdout",
     "output_type": "stream",
     "text": [
      "Data for 'AMZN' downloaded successfully.\n",
      "Data for 'BA' downloaded successfully.\n"
     ]
    },
    {
     "name": "stderr",
     "output_type": "stream",
     "text": [
      "[*********************100%%**********************]  1 of 1 completed\n",
      "[*********************100%%**********************]  1 of 1 completed\n"
     ]
    },
    {
     "name": "stdout",
     "output_type": "stream",
     "text": [
      "Data for 'CRM' downloaded successfully.\n",
      "Data for 'ES' downloaded successfully.\n"
     ]
    },
    {
     "name": "stderr",
     "output_type": "stream",
     "text": [
      "[*********************100%%**********************]  1 of 1 completed\n",
      "[*********************100%%**********************]  1 of 1 completed\n"
     ]
    },
    {
     "name": "stdout",
     "output_type": "stream",
     "text": [
      "Data for 'F' downloaded successfully.\n",
      "Data for 'GOOG' downloaded successfully.\n"
     ]
    },
    {
     "name": "stderr",
     "output_type": "stream",
     "text": [
      "[*********************100%%**********************]  1 of 1 completed\n",
      "[*********************100%%**********************]  1 of 1 completed\n"
     ]
    },
    {
     "name": "stdout",
     "output_type": "stream",
     "text": [
      "Data for 'GOOGL' downloaded successfully.\n",
      "Data for 'JPM' downloaded successfully.\n"
     ]
    },
    {
     "name": "stderr",
     "output_type": "stream",
     "text": [
      "[*********************100%%**********************]  1 of 1 completed\n",
      "[*********************100%%**********************]  1 of 1 completed\n"
     ]
    },
    {
     "name": "stdout",
     "output_type": "stream",
     "text": [
      "Data for 'META' downloaded successfully.\n",
      "Data for 'MNST' downloaded successfully.\n"
     ]
    },
    {
     "name": "stderr",
     "output_type": "stream",
     "text": [
      "[*********************100%%**********************]  1 of 1 completed\n",
      "[*********************100%%**********************]  1 of 1 completed\n",
      "[*********************100%%**********************]  1 of 1 completed"
     ]
    },
    {
     "name": "stdout",
     "output_type": "stream",
     "text": [
      "Data for 'MSFT' downloaded successfully.\n",
      "Data for 'NFLX' downloaded successfully.\n"
     ]
    },
    {
     "name": "stderr",
     "output_type": "stream",
     "text": [
      "\n",
      "[*********************100%%**********************]  1 of 1 completed\n"
     ]
    },
    {
     "name": "stdout",
     "output_type": "stream",
     "text": [
      "Data for 'NKE' downloaded successfully.\n",
      "Data for 'NVDA' downloaded successfully.\n"
     ]
    },
    {
     "name": "stderr",
     "output_type": "stream",
     "text": [
      "[*********************100%%**********************]  1 of 1 completed\n",
      "[*********************100%%**********************]  1 of 1 completed\n",
      "[*********************100%%**********************]  1 of 1 completed"
     ]
    },
    {
     "name": "stdout",
     "output_type": "stream",
     "text": [
      "Data for 'PFE' downloaded successfully.\n",
      "Data for 'TSLA' downloaded successfully.\n"
     ]
    },
    {
     "name": "stderr",
     "output_type": "stream",
     "text": [
      "\n",
      "[*********************100%%**********************]  1 of 1 completed"
     ]
    },
    {
     "name": "stdout",
     "output_type": "stream",
     "text": [
      "Data for 'ABBV' downloaded successfully.\n",
      "Data for 'ABT' downloaded successfully.\n"
     ]
    },
    {
     "name": "stderr",
     "output_type": "stream",
     "text": [
      "\n",
      "[*********************100%%**********************]  1 of 1 completed\n",
      "[*********************100%%**********************]  1 of 1 completed\n"
     ]
    },
    {
     "name": "stdout",
     "output_type": "stream",
     "text": [
      "Data for 'C' downloaded successfully.\n",
      "Data for 'CMG' downloaded successfully.\n"
     ]
    },
    {
     "name": "stderr",
     "output_type": "stream",
     "text": [
      "[*********************100%%**********************]  1 of 1 completed\n",
      "[*********************100%%**********************]  1 of 1 completed\n"
     ]
    },
    {
     "name": "stdout",
     "output_type": "stream",
     "text": [
      "Data for 'DIS' downloaded successfully.\n",
      "Data for 'EA' downloaded successfully.\n"
     ]
    },
    {
     "name": "stderr",
     "output_type": "stream",
     "text": [
      "[*********************100%%**********************]  1 of 1 completed\n",
      "[*********************100%%**********************]  1 of 1 completed\n"
     ]
    },
    {
     "name": "stdout",
     "output_type": "stream",
     "text": [
      "Data for 'EBAY' downloaded successfully.\n",
      "Data for 'FCX' downloaded successfully.\n"
     ]
    },
    {
     "name": "stderr",
     "output_type": "stream",
     "text": [
      "[*********************100%%**********************]  1 of 1 completed\n",
      "[*********************100%%**********************]  1 of 1 completed\n"
     ]
    },
    {
     "name": "stdout",
     "output_type": "stream",
     "text": [
      "Data for 'GS' downloaded successfully.\n",
      "Data for 'K' downloaded successfully.\n"
     ]
    },
    {
     "name": "stderr",
     "output_type": "stream",
     "text": [
      "[*********************100%%**********************]  1 of 1 completed\n",
      "[*********************100%%**********************]  1 of 1 completed"
     ]
    },
    {
     "name": "stdout",
     "output_type": "stream",
     "text": [
      "Data for 'KEY' downloaded successfully.\n"
     ]
    },
    {
     "name": "stderr",
     "output_type": "stream",
     "text": [
      "\n",
      "[*********************100%%**********************]  1 of 1 completed\n"
     ]
    },
    {
     "name": "stdout",
     "output_type": "stream",
     "text": [
      "Data for 'KO' downloaded successfully.\n",
      "Data for 'MA' downloaded successfully.\n"
     ]
    },
    {
     "name": "stderr",
     "output_type": "stream",
     "text": [
      "[*********************100%%**********************]  1 of 1 completed\n",
      "[*********************100%%**********************]  1 of 1 completed\n"
     ]
    },
    {
     "name": "stdout",
     "output_type": "stream",
     "text": [
      "Data for 'MO' downloaded successfully.\n",
      "Data for 'MU' downloaded successfully.\n"
     ]
    },
    {
     "name": "stderr",
     "output_type": "stream",
     "text": [
      "[*********************100%%**********************]  1 of 1 completed\n",
      "[*********************100%%**********************]  1 of 1 completed\n"
     ]
    },
    {
     "name": "stdout",
     "output_type": "stream",
     "text": [
      "Data for 'PEP' downloaded successfully.\n",
      "Data for 'STZ' downloaded successfully.\n"
     ]
    },
    {
     "name": "stderr",
     "output_type": "stream",
     "text": [
      "[*********************100%%**********************]  1 of 1 completed\n",
      "[*********************100%%**********************]  1 of 1 completed\n"
     ]
    },
    {
     "name": "stdout",
     "output_type": "stream",
     "text": [
      "Data for 'T' downloaded successfully.\n",
      "Data for 'TSN' downloaded successfully.\n"
     ]
    },
    {
     "name": "stderr",
     "output_type": "stream",
     "text": [
      "[*********************100%%**********************]  1 of 1 completed\n",
      "[*********************100%%**********************]  1 of 1 completed\n"
     ]
    },
    {
     "name": "stdout",
     "output_type": "stream",
     "text": [
      "Data for 'V' downloaded successfully.\n",
      "Data for 'PG' downloaded successfully.\n"
     ]
    },
    {
     "name": "stderr",
     "output_type": "stream",
     "text": [
      "[*********************100%%**********************]  1 of 1 completed\n",
      "[*********************100%%**********************]  1 of 1 completed\n"
     ]
    },
    {
     "name": "stdout",
     "output_type": "stream",
     "text": [
      "Data for 'OXY' downloaded successfully.\n",
      "Data for 'AAL' downloaded successfully.\n"
     ]
    },
    {
     "name": "stderr",
     "output_type": "stream",
     "text": [
      "[*********************100%%**********************]  1 of 1 completed\n",
      "[*********************100%%**********************]  1 of 1 completed\n"
     ]
    },
    {
     "name": "stdout",
     "output_type": "stream",
     "text": [
      "Data for 'DAL' downloaded successfully.\n",
      "Data for 'EL' downloaded successfully.\n"
     ]
    },
    {
     "name": "stderr",
     "output_type": "stream",
     "text": [
      "[*********************100%%**********************]  1 of 1 completed\n",
      "[*********************100%%**********************]  1 of 1 completed\n"
     ]
    },
    {
     "name": "stdout",
     "output_type": "stream",
     "text": [
      "Data for 'GILD' downloaded successfully.\n",
      "Data for 'J' downloaded successfully.\n"
     ]
    },
    {
     "name": "stderr",
     "output_type": "stream",
     "text": [
      "[*********************100%%**********************]  1 of 1 completed\n",
      "[*********************100%%**********************]  1 of 1 completed\n"
     ]
    },
    {
     "name": "stdout",
     "output_type": "stream",
     "text": [
      "Data for 'LUV' downloaded successfully.\n",
      "Data for 'PM' downloaded successfully.\n"
     ]
    },
    {
     "name": "stderr",
     "output_type": "stream",
     "text": [
      "[*********************100%%**********************]  1 of 1 completed\n",
      "[*********************100%%**********************]  1 of 1 completed\n"
     ]
    },
    {
     "name": "stdout",
     "output_type": "stream",
     "text": [
      "Data for 'SLB' downloaded successfully.\n",
      "Data for 'AES' downloaded successfully.\n"
     ]
    },
    {
     "name": "stderr",
     "output_type": "stream",
     "text": [
      "[*********************100%%**********************]  1 of 1 completed\n",
      "[*********************100%%**********************]  1 of 1 completed\n"
     ]
    },
    {
     "name": "stdout",
     "output_type": "stream",
     "text": [
      "Data for 'REGN' downloaded successfully.\n",
      "Data for 'A' downloaded successfully.\n"
     ]
    },
    {
     "name": "stderr",
     "output_type": "stream",
     "text": [
      "[*********************100%%**********************]  1 of 1 completed\n",
      "[*********************100%%**********************]  1 of 1 completed\n"
     ]
    },
    {
     "name": "stdout",
     "output_type": "stream",
     "text": [
      "Data for 'D' downloaded successfully.\n",
      "Data for 'ILMN' downloaded successfully.\n"
     ]
    },
    {
     "name": "stderr",
     "output_type": "stream",
     "text": [
      "[*********************100%%**********************]  1 of 1 completed\n",
      "[*********************100%%**********************]  1 of 1 completed\n"
     ]
    },
    {
     "name": "stdout",
     "output_type": "stream",
     "text": [
      "Data for 'L' downloaded successfully.\n",
      "Data for 'CB' downloaded successfully.\n"
     ]
    },
    {
     "name": "stderr",
     "output_type": "stream",
     "text": [
      "[*********************100%%**********************]  1 of 1 completed\n",
      "[*********************100%%**********************]  1 of 1 completed\n"
     ]
    },
    {
     "name": "stdout",
     "output_type": "stream",
     "text": [
      "Data for 'HBAN' downloaded successfully.\n",
      "Data for 'BIIB' downloaded successfully.\n"
     ]
    },
    {
     "name": "stderr",
     "output_type": "stream",
     "text": [
      "[*********************100%%**********************]  1 of 1 completed\n",
      "[*********************100%%**********************]  1 of 1 completed\n"
     ]
    },
    {
     "name": "stdout",
     "output_type": "stream",
     "text": [
      "Data for 'MRO' downloaded successfully.\n",
      "Data for 'NUE' downloaded successfully.\n"
     ]
    },
    {
     "name": "stderr",
     "output_type": "stream",
     "text": [
      "[*********************100%%**********************]  1 of 1 completed\n",
      "[*********************100%%**********************]  1 of 1 completed\n"
     ]
    },
    {
     "name": "stdout",
     "output_type": "stream",
     "text": [
      "Data for 'BKR' downloaded successfully.\n",
      "Data for 'DD' downloaded successfully.\n"
     ]
    },
    {
     "name": "stderr",
     "output_type": "stream",
     "text": [
      "[*********************100%%**********************]  1 of 1 completed\n"
     ]
    },
    {
     "name": "stdout",
     "output_type": "stream",
     "text": [
      "Data for 'TMO' downloaded successfully.\n"
     ]
    },
    {
     "name": "stderr",
     "output_type": "stream",
     "text": [
      "[*********************100%%**********************]  1 of 1 completed\n",
      "[*********************100%%**********************]  1 of 1 completed\n"
     ]
    },
    {
     "name": "stdout",
     "output_type": "stream",
     "text": [
      "Data for 'AEP' downloaded successfully.\n",
      "Data for 'ENPH' downloaded successfully.\n"
     ]
    },
    {
     "name": "stderr",
     "output_type": "stream",
     "text": [
      "[*********************100%%**********************]  1 of 1 completed\n",
      "[*********************100%%**********************]  1 of 1 completed\n"
     ]
    },
    {
     "name": "stdout",
     "output_type": "stream",
     "text": [
      "Data for 'AAP' downloaded successfully.\n",
      "Data for 'MRNA' downloaded successfully.\n"
     ]
    },
    {
     "name": "stderr",
     "output_type": "stream",
     "text": [
      "[*********************100%%**********************]  1 of 1 completed\n",
      "[*********************100%%**********************]  1 of 1 completed\n"
     ]
    },
    {
     "name": "stdout",
     "output_type": "stream",
     "text": [
      "Data for 'INTC' downloaded successfully.\n",
      "Data for 'LMT' downloaded successfully.\n"
     ]
    },
    {
     "name": "stderr",
     "output_type": "stream",
     "text": [
      "[*********************100%%**********************]  1 of 1 completed\n",
      "[*********************100%%**********************]  1 of 1 completed"
     ]
    },
    {
     "name": "stdout",
     "output_type": "stream",
     "text": [
      "Data for 'NCLH' downloaded successfully.\n"
     ]
    },
    {
     "name": "stderr",
     "output_type": "stream",
     "text": [
      "\n",
      "[*********************100%%**********************]  1 of 1 completed\n"
     ]
    },
    {
     "name": "stdout",
     "output_type": "stream",
     "text": [
      "Data for 'JNJ' downloaded successfully.\n",
      "Data for 'PYPL' downloaded successfully.\n"
     ]
    },
    {
     "name": "stderr",
     "output_type": "stream",
     "text": [
      "[*********************100%%**********************]  1 of 1 completed\n",
      "[*********************100%%**********************]  1 of 1 completed\n"
     ]
    },
    {
     "name": "stdout",
     "output_type": "stream",
     "text": [
      "Data for 'BMY' downloaded successfully.\n",
      "Data for 'CVX' downloaded successfully.\n"
     ]
    },
    {
     "name": "stderr",
     "output_type": "stream",
     "text": [
      "[*********************100%%**********************]  1 of 1 completed\n",
      "[*********************100%%**********************]  1 of 1 completed\n"
     ]
    },
    {
     "name": "stdout",
     "output_type": "stream",
     "text": [
      "Data for 'HON' downloaded successfully.\n",
      "Data for 'XOM' downloaded successfully.\n"
     ]
    },
    {
     "name": "stderr",
     "output_type": "stream",
     "text": [
      "[*********************100%%**********************]  1 of 1 completed\n",
      "[*********************100%%**********************]  1 of 1 completed\n"
     ]
    },
    {
     "name": "stdout",
     "output_type": "stream",
     "text": [
      "Data for 'DVN' downloaded successfully.\n",
      "Data for 'MPC' downloaded successfully.\n"
     ]
    },
    {
     "name": "stderr",
     "output_type": "stream",
     "text": [
      "[*********************100%%**********************]  1 of 1 completed\n",
      "[*********************100%%**********************]  1 of 1 completed\n"
     ]
    },
    {
     "name": "stdout",
     "output_type": "stream",
     "text": [
      "Data for 'RCL' downloaded successfully.\n",
      "Data for 'AVGO' downloaded successfully.\n"
     ]
    },
    {
     "name": "stderr",
     "output_type": "stream",
     "text": [
      "[*********************100%%**********************]  1 of 1 completed\n",
      "[*********************100%%**********************]  1 of 1 completed\n"
     ]
    },
    {
     "name": "stdout",
     "output_type": "stream",
     "text": [
      "Data for 'DG' downloaded successfully.\n",
      "Data for 'DLTR' downloaded successfully.\n"
     ]
    },
    {
     "name": "stderr",
     "output_type": "stream",
     "text": [
      "[*********************100%%**********************]  1 of 1 completed\n",
      "[*********************100%%**********************]  1 of 1 completed\n"
     ]
    },
    {
     "name": "stdout",
     "output_type": "stream",
     "text": [
      "Data for 'MDT' downloaded successfully.\n",
      "Data for 'CCL' downloaded successfully.\n"
     ]
    },
    {
     "name": "stderr",
     "output_type": "stream",
     "text": [
      "[*********************100%%**********************]  1 of 1 completed\n",
      "[***                    6%%                      ]  5 of 84 completed"
     ]
    },
    {
     "name": "stdout",
     "output_type": "stream",
     "text": [
      "Data for 'ALB' downloaded successfully.\n"
     ]
    },
    {
     "name": "stderr",
     "output_type": "stream",
     "text": [
      "[*********************100%%**********************]  84 of 84 completed\n"
     ]
    }
   ],
   "source": [
    "import yfinance as yf\n",
    "\n",
    "stocks_list = sentiment_df.index.get_level_values('symbol').unique().tolist()\n",
    "\n",
    "# Remove 'ATVI' from the list if it exists\n",
    "if 'ATVI' in stocks_list:\n",
    "    stocks_list.remove('ATVI')\n",
    "    print(\"'ATVI' symbol excluded from further processing.\")\n",
    "\n",
    "successful_symbols = []\n",
    "\n",
    "for symbol in stocks_list:\n",
    "    try:\n",
    "\n",
    "        prices_df_temp = yf.download(tickers=symbol,\n",
    "                                     start='2021-01-01',\n",
    "                                     end='2023-03-01')\n",
    "        \n",
    "        successful_symbols.append(symbol)\n",
    "        print(f\"Data for '{symbol}' downloaded successfully.\")\n",
    "        \n",
    "    except Exception as e:\n",
    "\n",
    "        print(f\"Failed to download data for '{symbol}': {e}\")\n",
    "\n",
    "prices_df = yf.download(tickers=successful_symbols,\n",
    "                        start='2021-01-01',\n",
    "                        end='2023-03-01')\n"
   ]
  },
  {
   "cell_type": "code",
   "execution_count": 6,
   "id": "e6868019",
   "metadata": {},
   "outputs": [
    {
     "data": {
      "text/html": [
       "<div>\n",
       "<style scoped>\n",
       "    .dataframe tbody tr th:only-of-type {\n",
       "        vertical-align: middle;\n",
       "    }\n",
       "\n",
       "    .dataframe tbody tr th {\n",
       "        vertical-align: top;\n",
       "    }\n",
       "\n",
       "    .dataframe thead th {\n",
       "        text-align: right;\n",
       "    }\n",
       "</style>\n",
       "<table border=\"1\" class=\"dataframe\">\n",
       "  <thead>\n",
       "    <tr style=\"text-align: right;\">\n",
       "      <th></th>\n",
       "      <th>portfolio_return</th>\n",
       "    </tr>\n",
       "    <tr>\n",
       "      <th>Date</th>\n",
       "      <th></th>\n",
       "    </tr>\n",
       "  </thead>\n",
       "  <tbody>\n",
       "    <tr>\n",
       "      <th>2021-12-01</th>\n",
       "      <td>-0.016417</td>\n",
       "    </tr>\n",
       "    <tr>\n",
       "      <th>2021-12-02</th>\n",
       "      <td>0.024872</td>\n",
       "    </tr>\n",
       "    <tr>\n",
       "      <th>2021-12-03</th>\n",
       "      <td>-0.007711</td>\n",
       "    </tr>\n",
       "    <tr>\n",
       "      <th>2021-12-06</th>\n",
       "      <td>0.023926</td>\n",
       "    </tr>\n",
       "    <tr>\n",
       "      <th>2021-12-07</th>\n",
       "      <td>0.030547</td>\n",
       "    </tr>\n",
       "    <tr>\n",
       "      <th>...</th>\n",
       "      <td>...</td>\n",
       "    </tr>\n",
       "    <tr>\n",
       "      <th>2023-02-22</th>\n",
       "      <td>-0.007870</td>\n",
       "    </tr>\n",
       "    <tr>\n",
       "      <th>2023-02-23</th>\n",
       "      <td>-0.007323</td>\n",
       "    </tr>\n",
       "    <tr>\n",
       "      <th>2023-02-24</th>\n",
       "      <td>-0.009463</td>\n",
       "    </tr>\n",
       "    <tr>\n",
       "      <th>2023-02-27</th>\n",
       "      <td>-0.001871</td>\n",
       "    </tr>\n",
       "    <tr>\n",
       "      <th>2023-02-28</th>\n",
       "      <td>0.001403</td>\n",
       "    </tr>\n",
       "  </tbody>\n",
       "</table>\n",
       "<p>312 rows × 1 columns</p>\n",
       "</div>"
      ],
      "text/plain": [
       "            portfolio_return\n",
       "Date                        \n",
       "2021-12-01         -0.016417\n",
       "2021-12-02          0.024872\n",
       "2021-12-03         -0.007711\n",
       "2021-12-06          0.023926\n",
       "2021-12-07          0.030547\n",
       "...                      ...\n",
       "2023-02-22         -0.007870\n",
       "2023-02-23         -0.007323\n",
       "2023-02-24         -0.009463\n",
       "2023-02-27         -0.001871\n",
       "2023-02-28          0.001403\n",
       "\n",
       "[312 rows x 1 columns]"
      ]
     },
     "execution_count": 6,
     "metadata": {},
     "output_type": "execute_result"
    }
   ],
   "source": [
    "returns_df = np.log(prices_df['Adj Close']).diff().dropna()\n",
    "\n",
    "portfolio_df = pd.DataFrame()\n",
    "\n",
    "for start_date in fixed_dates.keys():\n",
    "    \n",
    "    end_date = (pd.to_datetime(start_date)+pd.offsets.MonthEnd()).strftime('%Y-%m-%d')\n",
    "    \n",
    "    cols = fixed_dates[start_date]\n",
    "    \n",
    "    temp_df = returns_df[start_date:end_date][cols].mean(axis=1).to_frame('portfolio_return')\n",
    "    \n",
    "    portfolio_df = pd.concat([portfolio_df, temp_df], axis=0)\n",
    "    \n",
    "portfolio_df"
   ]
  },
  {
   "cell_type": "code",
   "execution_count": 7,
   "id": "4be2e8a9",
   "metadata": {},
   "outputs": [
    {
     "name": "stderr",
     "output_type": "stream",
     "text": [
      "[*********************100%%**********************]  1 of 1 completed\n"
     ]
    },
    {
     "data": {
      "text/html": [
       "<div>\n",
       "<style scoped>\n",
       "    .dataframe tbody tr th:only-of-type {\n",
       "        vertical-align: middle;\n",
       "    }\n",
       "\n",
       "    .dataframe tbody tr th {\n",
       "        vertical-align: top;\n",
       "    }\n",
       "\n",
       "    .dataframe thead th {\n",
       "        text-align: right;\n",
       "    }\n",
       "</style>\n",
       "<table border=\"1\" class=\"dataframe\">\n",
       "  <thead>\n",
       "    <tr style=\"text-align: right;\">\n",
       "      <th></th>\n",
       "      <th>portfolio_return</th>\n",
       "      <th>nasdaq_return</th>\n",
       "    </tr>\n",
       "    <tr>\n",
       "      <th>Date</th>\n",
       "      <th></th>\n",
       "      <th></th>\n",
       "    </tr>\n",
       "  </thead>\n",
       "  <tbody>\n",
       "    <tr>\n",
       "      <th>2021-12-01</th>\n",
       "      <td>-0.016417</td>\n",
       "      <td>-0.017159</td>\n",
       "    </tr>\n",
       "    <tr>\n",
       "      <th>2021-12-02</th>\n",
       "      <td>0.024872</td>\n",
       "      <td>0.007181</td>\n",
       "    </tr>\n",
       "    <tr>\n",
       "      <th>2021-12-03</th>\n",
       "      <td>-0.007711</td>\n",
       "      <td>-0.017542</td>\n",
       "    </tr>\n",
       "    <tr>\n",
       "      <th>2021-12-06</th>\n",
       "      <td>0.023926</td>\n",
       "      <td>0.007981</td>\n",
       "    </tr>\n",
       "    <tr>\n",
       "      <th>2021-12-07</th>\n",
       "      <td>0.030547</td>\n",
       "      <td>0.029669</td>\n",
       "    </tr>\n",
       "    <tr>\n",
       "      <th>...</th>\n",
       "      <td>...</td>\n",
       "      <td>...</td>\n",
       "    </tr>\n",
       "    <tr>\n",
       "      <th>2023-02-22</th>\n",
       "      <td>-0.007870</td>\n",
       "      <td>0.000748</td>\n",
       "    </tr>\n",
       "    <tr>\n",
       "      <th>2023-02-23</th>\n",
       "      <td>-0.007323</td>\n",
       "      <td>0.008696</td>\n",
       "    </tr>\n",
       "    <tr>\n",
       "      <th>2023-02-24</th>\n",
       "      <td>-0.009463</td>\n",
       "      <td>-0.016886</td>\n",
       "    </tr>\n",
       "    <tr>\n",
       "      <th>2023-02-27</th>\n",
       "      <td>-0.001871</td>\n",
       "      <td>0.007136</td>\n",
       "    </tr>\n",
       "    <tr>\n",
       "      <th>2023-02-28</th>\n",
       "      <td>0.001403</td>\n",
       "      <td>-0.001294</td>\n",
       "    </tr>\n",
       "  </tbody>\n",
       "</table>\n",
       "<p>312 rows × 2 columns</p>\n",
       "</div>"
      ],
      "text/plain": [
       "            portfolio_return  nasdaq_return\n",
       "Date                                       \n",
       "2021-12-01         -0.016417      -0.017159\n",
       "2021-12-02          0.024872       0.007181\n",
       "2021-12-03         -0.007711      -0.017542\n",
       "2021-12-06          0.023926       0.007981\n",
       "2021-12-07          0.030547       0.029669\n",
       "...                      ...            ...\n",
       "2023-02-22         -0.007870       0.000748\n",
       "2023-02-23         -0.007323       0.008696\n",
       "2023-02-24         -0.009463      -0.016886\n",
       "2023-02-27         -0.001871       0.007136\n",
       "2023-02-28          0.001403      -0.001294\n",
       "\n",
       "[312 rows x 2 columns]"
      ]
     },
     "execution_count": 7,
     "metadata": {},
     "output_type": "execute_result"
    }
   ],
   "source": [
    "qqq_df = yf.download(tickers='QQQ',\n",
    "                     start='2021-01-01',\n",
    "                     end='2023-03-01')\n",
    "\n",
    "qqq_ret = np.log(qqq_df['Adj Close']).diff().to_frame('nasdaq_return')\n",
    "\n",
    "portfolio_df = portfolio_df.merge(qqq_ret,\n",
    "                                  left_index=True,\n",
    "                                  right_index=True)\n",
    "\n",
    "portfolio_df"
   ]
  },
  {
   "cell_type": "code",
   "execution_count": 8,
   "id": "d7ae7ddb",
   "metadata": {},
   "outputs": [
    {
     "data": {
      "image/png": "[encoded data removed]",
      "text/plain": [
       "<Figure size 1600x600 with 1 Axes>"
      ]
     },
     "metadata": {},
     "output_type": "display_data"
    }
   ],
   "source": [
    "import numpy as np\n",
    "import matplotlib.pyplot as plt\n",
    "import matplotlib.ticker as mtick  \n",
    "\n",
    "portfolios_cumulative_return = np.exp(np.log1p(portfolio_df).cumsum()).sub(1)\n",
    "\n",
    "portfolios_cumulative_return.plot(figsize=(16,6))\n",
    "\n",
    "plt.title('Twitter Engagement Ratio Strategy Return Over Time')\n",
    "\n",
    "plt.gca().yaxis.set_major_formatter(mtick.PercentFormatter(1))\n",
    "\n",
    "plt.ylabel('Return')\n",
    "plt.show()\n"
   ]
  },
  {
   "cell_type": "code",
   "execution_count": null,
   "id": "40aa7759",
   "metadata": {},
   "outputs": [],
   "source": []
  }
 ],
 "metadata": {
  "kernelspec": {
   "display_name": "Python 3 (ipykernel)",
   "language": "python",
   "name": "python3"
  },
  "language_info": {
   "codemirror_mode": {
    "name": "ipython",
    "version": 3
   },
   "file_extension": ".py",
   "mimetype": "text/x-python",
   "name": "python",
   "nbconvert_exporter": "python",
   "pygments_lexer": "ipython3",
   "version": "3.9.13"
  }
 },
 "nbformat": 4,
 "nbformat_minor": 5
}
